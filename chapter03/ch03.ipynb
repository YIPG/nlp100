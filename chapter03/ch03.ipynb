{
 "cells": [
  {
   "cell_type": "markdown",
   "metadata": {},
   "source": [
    "# Chapter3"
   ]
  },
  {
   "cell_type": "markdown",
   "metadata": {},
   "source": [
    "## p20"
   ]
  },
  {
   "cell_type": "code",
   "execution_count": 1,
   "metadata": {},
   "outputs": [],
   "source": [
    "data_path = \"../data/jawiki-country.json.gz\""
   ]
  },
  {
   "cell_type": "code",
   "execution_count": 2,
   "metadata": {},
   "outputs": [],
   "source": [
    "import pandas as pd\n",
    "import numpy as np\n",
    "import json\n",
    "import gzip\n",
    "import re"
   ]
  },
  {
   "cell_type": "code",
   "execution_count": 62,
   "metadata": {},
   "outputs": [
    {
     "name": "stdout",
     "output_type": "stream",
     "text": [
      "{{redirect|UK}}\n",
      "{{基礎情報 国\n",
      "|略名 = イギリス\n",
      "|日本語国名 = グレートブリテン及び北アイルランド連合王国\n",
      "|公式国名 = {{lang|en|United Kingdom \n"
     ]
    }
   ],
   "source": [
    "with gzip.open(data_path, \"rt\") as f:\n",
    "    for line in f:\n",
    "        fj = json.loads(line)\n",
    "        if fj[\"title\"] == \"イギリス\":\n",
    "            article_england = fj[\"text\"]\n",
    "            print(article_england[:100])"
   ]
  },
  {
   "cell_type": "markdown",
   "metadata": {},
   "source": [
    "## p21"
   ]
  },
  {
   "cell_type": "code",
   "execution_count": 4,
   "metadata": {},
   "outputs": [
    {
     "name": "stdout",
     "output_type": "stream",
     "text": [
      "[[Category:イギリス|*]]\n",
      "[[Category:英連邦王国|*]]\n",
      "[[Category:G8加盟国]]\n",
      "[[Category:欧州連合加盟国]]\n",
      "[[Category:海洋国家]]\n",
      "[[Category:君主国]]\n",
      "[[Category:島国|くれいとふりてん]]\n",
      "[[Category:1801年に設立された州・地域]]\n"
     ]
    }
   ],
   "source": [
    "category_eng = re.findall(\"\\[\\[Category:.*\", article_england)\n",
    "\n",
    "for i in category_eng:\n",
    "    print(i)"
   ]
  },
  {
   "cell_type": "markdown",
   "metadata": {},
   "source": [
    "## p22"
   ]
  },
  {
   "cell_type": "code",
   "execution_count": 5,
   "metadata": {},
   "outputs": [
    {
     "name": "stdout",
     "output_type": "stream",
     "text": [
      "イギリス\n",
      "英連邦王国\n",
      "G8加盟国\n",
      "欧州連合加盟国\n",
      "海洋国家\n",
      "君主国\n",
      "島国|くれいとふりてん\n",
      "1801年に設立された州・地域\n"
     ]
    }
   ],
   "source": [
    "category_name = []\n",
    "\n",
    "for i in category_eng:\n",
    "    name = re.sub(r\"\\[\\[Category:|(\\|\\*)?\\]\\]\", \"\",i)\n",
    "    category_name.append(name)\n",
    "    print(name)"
   ]
  },
  {
   "cell_type": "markdown",
   "metadata": {},
   "source": [
    "## p23"
   ]
  },
  {
   "cell_type": "code",
   "execution_count": 65,
   "metadata": {},
   "outputs": [
    {
     "name": "stdout",
     "output_type": "stream",
     "text": [
      "('国名', 1)\n",
      "('歴史', 1)\n",
      "('地理', 1)\n",
      "('気候', 2)\n",
      "('政治', 1)\n",
      "('外交と軍事', 1)\n",
      "('地方行政区分', 1)\n"
     ]
    }
   ],
   "source": [
    "# セクションのリスト\n",
    "section_eng = re.findall(r\"==.*==\", article_england)\n",
    "\n",
    "# セクション名とそのレベルの辞書\n",
    "section = {}\n",
    "\n",
    "for i in section_eng:\n",
    "    count = i.count(\"=\")\n",
    "    level = int(count/2 - 1)\n",
    "    i = re.sub(\"=\",\"\",i)\n",
    "    section[i] = level\n",
    "\n",
    "for index, i in enumerate(section.items()):\n",
    "    print(i)\n",
    "    if index > 5: break"
   ]
  },
  {
   "cell_type": "markdown",
   "metadata": {},
   "source": [
    "## p24"
   ]
  },
  {
   "cell_type": "markdown",
   "metadata": {},
   "source": [
    "試しに[イギリスのWiki](https://ja.wikipedia.org/wiki/%E3%82%A4%E3%82%AE%E3%83%AA%E3%82%B9)をみてみると, 画像は`[[File:` or `[[ファイル:` で始まっていることがわかる.\n",
    "これを正規表現で抽出する."
   ]
  },
  {
   "cell_type": "code",
   "execution_count": 66,
   "metadata": {},
   "outputs": [
    {
     "name": "stdout",
     "output_type": "stream",
     "text": [
      "Royal Coat of Arms of the United Kingdom.svg\n",
      "Battle of Waterloo 1815.PNG\n",
      "The British Empire.png\n",
      "Uk topo en.jpg\n",
      "BenNevis2005.jpg\n",
      "Elizabeth II greets NASA GSFC employees, May 8, 2007 edit.jpg\n",
      "Palace of Westminster, London - Feb 2007.jpg\n"
     ]
    }
   ],
   "source": [
    "\n",
    "media = re.findall(r\"ファイル:.*?\\||File:.*?\\|\", article_england)\n",
    "\n",
    "# media = re.findall(\"(ファイル|File):.*?\\|\", article_england)\n",
    "# 上記だと何故かFile, ファイルとしか出力されない\n",
    "\n",
    "media_name = []\n",
    "\n",
    "for index,i in enumerate(media):\n",
    "    i = re.sub(r\"ファイル:|File:|\\|\", \"\", i)\n",
    "    media_name.append(i)\n",
    "    print(i)\n",
    "    if index > 5 : break"
   ]
  },
  {
   "cell_type": "markdown",
   "metadata": {},
   "source": [
    "## p25"
   ]
  },
  {
   "cell_type": "code",
   "execution_count": 8,
   "metadata": {},
   "outputs": [],
   "source": [
    "template = re.findall(r'''\n",
    "    ^\\{\\{基礎情報.*?$   \n",
    "    (.*?)       \n",
    "    ^\\}\\}$      \n",
    "    ''', article_england, flags = re.MULTILINE + re.VERBOSE + re.DOTALL)"
   ]
  },
  {
   "cell_type": "code",
   "execution_count": 67,
   "metadata": {},
   "outputs": [
    {
     "name": "stdout",
     "output_type": "stream",
     "text": [
      "('略名', 'イギリス')\n",
      "('日本語国名', 'グレートブリテン及び北アイルランド連合王国')\n",
      "('公式国名', '{{lang|en|United Kingdom of Great Britain and Northern Ireland}}<ref>英語以外での正式国名:<br/>\\n*{{lang|gd|An Rìoghachd Aonaichte na Breatainn Mhòr agus Eirinn mu Thuath}}（[[スコットランド・ゲール語]]）<br/>\\n*{{lang|cy|Teyrnas Gyfunol Prydain Fawr a Gogledd Iwerddon}}（[[ウェールズ語]]）<br/>\\n*{{lang|ga|Ríocht Aontaithe na Breataine Móire agus Tuaisceart na hÉireann}}（[[アイルランド語]]）<br/>\\n*{{lang|kw|An Rywvaneth Unys a Vreten Veur hag Iwerdhon Glédh}}（[[コーンウォール語]]）<br/>\\n*{{lang|sco|Unitit Kinrick o Great Breetain an Northren Ireland}}（[[スコットランド語]]）<br/>\\n**{{lang|sco|Claught Kängrick o Docht Brätain an Norlin Airlann}}、{{lang|sco|Unitet Kängdom o Great Brittain an Norlin Airlann}}（アルスター・スコットランド語）</ref>')\n",
      "('国旗画像', 'Flag of the United Kingdom.svg')\n",
      "('国章画像', '[[ファイル:Royal Coat of Arms of the United Kingdom.svg|85px|イギリスの国章]]')\n",
      "('国章リンク', '（[[イギリスの国章|国章]]）')\n",
      "('標語', '{{lang|fr|Dieu et mon droit}}<br/>（[[フランス語]]:神と私の権利）')\n"
     ]
    }
   ],
   "source": [
    "template_list = re.findall(r'''\n",
    "    ^\\|         \n",
    "    (.+?)       \n",
    "    \\s*         \n",
    "    =\n",
    "    \\s*         \n",
    "    (.+?)       \n",
    "    (?:         \n",
    "        (?=\\n\\|)    \n",
    "        | (?=\\n$)   \n",
    "    )           \n",
    "    ''', template[0], flags = re.MULTILINE + re.VERBOSE + re.DOTALL)\n",
    "\n",
    "template_dic = {}\n",
    "\n",
    "for item in template_list:\n",
    "    template_dic[item[0]] = item[1]\n",
    "\n",
    "for index,i in enumerate(template_dic.items()):\n",
    "    print(i)\n",
    "    if index > 5 : break"
   ]
  },
  {
   "cell_type": "markdown",
   "metadata": {},
   "source": [
    "## p26"
   ]
  },
  {
   "cell_type": "code",
   "execution_count": 78,
   "metadata": {},
   "outputs": [
    {
     "name": "stdout",
     "output_type": "stream",
     "text": [
      "イギリス\n",
      "グレートブリテン及び北アイルランド連合王国\n",
      "{{lang|en|United Kingdom of Great Britain and Northern Ireland}}<ref>英語以外での正式国名:<br/>\n",
      "*{{lang|gd|An Rìoghachd Aonaichte na Breatainn Mhòr agus Eirinn mu Thuath}}（スコットランド・ゲール語）<br/>\n",
      "*{{lang|cy|Teyrnas Gyfunol Prydain Fawr a Gogledd Iwerddon}}（ウェールズ語）<br/>\n",
      "*{{lang|ga|Ríocht Aontaithe na Breataine Móire agus Tuaisceart na hÉireann}}（アイルランド語）<br/>\n",
      "*{{lang|kw|An Rywvaneth Unys a Vreten Veur hag Iwerdhon Glédh}}（コーンウォール語）<br/>\n",
      "*{{lang|sco|Unitit Kinrick o Great Breetain an Northren Ireland}}（スコットランド語）<br/>\n",
      "**{{lang|sco|Claught Kängrick o Docht Brätain an Norlin Airlann}}、{{lang|sco|Unitet Kängdom o Great Brittain an Norlin Airlann}}（アルスター・スコットランド語）</ref>\n",
      "Flag of the United Kingdom.svg\n",
      "ファイル:Royal Coat of Arms of the United Kingdom.svg|85px|イギリスの国章\n",
      "（イギリスの国章|国章）\n",
      "{{lang|fr|Dieu et mon droit}}<br/>（フランス語:神と私の権利）\n",
      "女王陛下万歳|神よ女王陛下を守り給え\n",
      "Location_UK_EU_Europe_001.svg\n",
      "英語（事実上）\n",
      "ロンドン\n",
      "ロンドン\n",
      "イギリスの君主|女王\n",
      "エリザベス2世\n",
      "イギリスの首相|首相\n",
      "デーヴィッド・キャメロン\n",
      "76\n",
      "1 E11\n",
      "244,820\n",
      "1.3%\n",
      "2011\n",
      "22\n",
      "1 E7\n",
      "63,181,775<ref>[http://esa.un.org/unpd/wpp/Excel-Data/population.htm United Nations Department of Economic and Social Affairs>Population Division>Data>Population>Total Population]</ref>\n",
      "246\n",
      "2012\n",
      "1兆5478億<ref name=\"imf-statistics-gdp\">[http://www.imf.org/external/pubs/ft/weo/2012/02/weodata/weorept.aspx?pr.x=70&pr.y=13&sy=2010&ey=2012&scsm=1&ssd=1&sort=country&ds=.&br=1&c=112&s=NGDP%2CNGDPD%2CPPPGDP%2CPPPPC&grp=0&a= IMF>Data and Statistics>World Economic Outlook Databases>By Countrise>United Kingdom]</ref>\n",
      "2012\n",
      "5\n",
      "2兆4337億<ref name=\"imf-statistics-gdp\" />\n",
      "2012\n",
      "6\n",
      "2兆3162億<ref name=\"imf-statistics-gdp\" />\n",
      "36,727<ref name=\"imf-statistics-gdp\" />\n",
      "建国\n",
      "イングランド王国／スコットランド王国<br />（両国とも連合法 (1707年)|1707年連合法まで）\n",
      "927年／843年\n",
      "グレートブリテン王国建国<br />（連合法 (1707年)|1707年連合法）\n",
      "1707年\n",
      "グレートブリテン及びアイルランド連合王国建国<br />（連合法 (1800年)|1800年連合法）\n",
      "1801年\n",
      "現在の国号「グレートブリテン及び北アイルランド連合王国」に変更\n",
      "1927年\n",
      "スターリング・ポンド|UKポンド (&pound;)\n",
      "GBP\n",
      "±0\n",
      "+1\n",
      "GB / GBR\n",
      ".uk / .gb<ref>使用は.ukに比べ圧倒的少数。</ref>\n",
      "44\n",
      "<references />\n"
     ]
    }
   ],
   "source": [
    "template_markup_removed = template_dic\n",
    "\n",
    "for key, value in template_dic.items():\n",
    "    template_markup_removed[key] = re.sub(\"'{2,5}\", \"\", value) # 強調, 斜体は'が2~5個\n",
    "    print(template_markup_removed[key])\n"
   ]
  },
  {
   "cell_type": "markdown",
   "metadata": {},
   "source": [
    "## p27"
   ]
  },
  {
   "cell_type": "code",
   "execution_count": 77,
   "metadata": {},
   "outputs": [
    {
     "name": "stdout",
     "output_type": "stream",
     "text": [
      "イギリス\n",
      "グレートブリテン及び北アイルランド連合王国\n",
      "{{lang|en|United Kingdom of Great Britain and Northern Ireland}}<ref>英語以外での正式国名:<br/>\n",
      "*{{lang|gd|An Rìoghachd Aonaichte na Breatainn Mhòr agus Eirinn mu Thuath}}（スコットランド・ゲール語）<br/>\n",
      "*{{lang|cy|Teyrnas Gyfunol Prydain Fawr a Gogledd Iwerddon}}（ウェールズ語）<br/>\n",
      "*{{lang|ga|Ríocht Aontaithe na Breataine Móire agus Tuaisceart na hÉireann}}（アイルランド語）<br/>\n",
      "*{{lang|kw|An Rywvaneth Unys a Vreten Veur hag Iwerdhon Glédh}}（コーンウォール語）<br/>\n",
      "*{{lang|sco|Unitit Kinrick o Great Breetain an Northren Ireland}}（スコットランド語）<br/>\n",
      "**{{lang|sco|Claught Kängrick o Docht Brätain an Norlin Airlann}}、{{lang|sco|Unitet Kängdom o Great Brittain an Norlin Airlann}}（アルスター・スコットランド語）</ref>\n",
      "Flag of the United Kingdom.svg\n",
      "ファイル:Royal Coat of Arms of the United Kingdom.svg|85px|イギリスの国章\n",
      "（イギリスの国章|国章）\n",
      "{{lang|fr|Dieu et mon droit}}<br/>（フランス語:神と私の権利）\n",
      "女王陛下万歳|神よ女王陛下を守り給え\n",
      "Location_UK_EU_Europe_001.svg\n",
      "英語（事実上）\n",
      "ロンドン\n",
      "ロンドン\n",
      "イギリスの君主|女王\n",
      "エリザベス2世\n",
      "イギリスの首相|首相\n",
      "デーヴィッド・キャメロン\n",
      "76\n",
      "1 E11\n",
      "244,820\n",
      "1.3%\n",
      "2011\n",
      "22\n",
      "1 E7\n",
      "63,181,775<ref>[http://esa.un.org/unpd/wpp/Excel-Data/population.htm United Nations Department of Economic and Social Affairs>Population Division>Data>Population>Total Population]</ref>\n",
      "246\n",
      "2012\n",
      "1兆5478億<ref name=\"imf-statistics-gdp\">[http://www.imf.org/external/pubs/ft/weo/2012/02/weodata/weorept.aspx?pr.x=70&pr.y=13&sy=2010&ey=2012&scsm=1&ssd=1&sort=country&ds=.&br=1&c=112&s=NGDP%2CNGDPD%2CPPPGDP%2CPPPPC&grp=0&a= IMF>Data and Statistics>World Economic Outlook Databases>By Countrise>United Kingdom]</ref>\n",
      "2012\n",
      "5\n",
      "2兆4337億<ref name=\"imf-statistics-gdp\" />\n",
      "2012\n",
      "6\n",
      "2兆3162億<ref name=\"imf-statistics-gdp\" />\n",
      "36,727<ref name=\"imf-statistics-gdp\" />\n",
      "建国\n",
      "イングランド王国／スコットランド王国<br />（両国とも連合法 (1707年)|1707年連合法まで）\n",
      "927年／843年\n",
      "グレートブリテン王国建国<br />（連合法 (1707年)|1707年連合法）\n",
      "1707年\n",
      "グレートブリテン及びアイルランド連合王国建国<br />（連合法 (1800年)|1800年連合法）\n",
      "1801年\n",
      "現在の国号「グレートブリテン及び北アイルランド連合王国」に変更\n",
      "1927年\n",
      "スターリング・ポンド|UKポンド (&pound;)\n",
      "GBP\n",
      "±0\n",
      "+1\n",
      "GB / GBR\n",
      ".uk / .gb<ref>使用は.ukに比べ圧倒的少数。</ref>\n",
      "44\n",
      "<references />\n"
     ]
    }
   ],
   "source": [
    "template_markup_link_removed = template_markup_removed\n",
    "\n",
    "for key, value in template_markup_removed.items():\n",
    "    template_markup_link_removed[key] = re.sub(\"\\[\\[|\\]\\]\", \"\", value) # 内部リンクは[[]]で囲まれている.\n",
    "    print(template_markup_link_removed[key])\n"
   ]
  },
  {
   "cell_type": "markdown",
   "metadata": {},
   "source": [
    "## p28"
   ]
  },
  {
   "cell_type": "markdown",
   "metadata": {},
   "source": [
    "目につくのは下記\n",
    "- ref ~ /ref\n",
    "- <>で囲まれているもの\n",
    "- {{lang|~|~(残したい)}}\n",
    "- 連合法 (1800年)|1800年連合法）などがあるが, ()は全て削除  \n",
    "\n",
    "これらを除去する"
   ]
  },
  {
   "cell_type": "code",
   "execution_count": 12,
   "metadata": {},
   "outputs": [
    {
     "name": "stdout",
     "output_type": "stream",
     "text": [
      "イギリス\n",
      "グレートブリテン及び北アイルランド連合王国\n",
      "United Kingdom of Great Britain and Northern Ireland英語以外での正式国名:\n",
      "An Rìoghachd Aonaichte na Breatainn Mhòr agus Eirinn mu Thuath\n",
      "Teyrnas Gyfunol Prydain Fawr a Gogledd Iwerddon\n",
      "Ríocht Aontaithe na Breataine Móire agus Tuaisceart na hÉireann\n",
      "An Rywvaneth Unys a Vreten Veur hag Iwerdhon Glédh\n",
      "Unitit Kinrick o Great Breetain an Northren Ireland\n",
      "Claught Kängrick o Docht Brätain an Norlin Airlann、Unitet Kängdom o Great Brittain an Norlin Airlann\n",
      "Flag of the United Kingdom.svg\n",
      "ファイル:Royal Coat of Arms of the United Kingdom.svg|85px|イギリスの国章\n",
      "\n",
      "Dieu et mon droit\n",
      "女王陛下万歳|神よ女王陛下を守り給え\n",
      "Location_UK_EU_Europe_001.svg\n",
      "英語\n",
      "ロンドン\n",
      "ロンドン\n",
      "イギリスの君主|女王\n",
      "エリザベス2世\n",
      "イギリスの首相|首相\n",
      "デーヴィッド・キャメロン\n",
      "76\n",
      "1 E11\n",
      "244,820\n",
      "1.3%\n",
      "2011\n",
      "22\n",
      "1 E7\n",
      "63,181,775\n",
      "246\n",
      "2012\n",
      "1兆5478億\n",
      "2012\n",
      "5\n",
      "2兆4337億\n",
      "2012\n",
      "6\n",
      "2兆3162億\n",
      "36,727\n",
      "建国\n",
      "イングランド王国／スコットランド王国\n",
      "927年／843年\n",
      "グレートブリテン王国建国\n",
      "1707年\n",
      "グレートブリテン及びアイルランド連合王国建国\n",
      "1801年\n",
      "現在の国号「グレートブリテン及び北アイルランド連合王国」に変更\n",
      "1927年\n",
      "スターリング・ポンド|UKポンド (&pound;)\n",
      "GBP\n",
      "±0\n",
      "+1\n",
      "GB / GBR\n",
      ".uk / .gb\n",
      "44\n",
      "\n"
     ]
    }
   ],
   "source": [
    "template_markup_link_media_removed = template_markup_link_removed\n",
    "\n",
    "for key, value in template_markup_link_removed.items():\n",
    "    template_markup_link_media_removed[key] = re.sub(\"<ref.+?ref>|<.+?>|{.+?\\|.+?\\||\\}\\}|\\（.+?\\）|\\*+\", \"\", value) # 上記のものを正規表現で除去\n",
    "    print(template_markup_link_media_removed[key])"
   ]
  },
  {
   "cell_type": "markdown",
   "metadata": {},
   "source": [
    "## p29"
   ]
  },
  {
   "cell_type": "markdown",
   "metadata": {},
   "source": [
    "国旗画像はp25の`template_dic[\"国旗画像\"]`に入っている."
   ]
  },
  {
   "cell_type": "code",
   "execution_count": 58,
   "metadata": {},
   "outputs": [
    {
     "name": "stdout",
     "output_type": "stream",
     "text": [
      "{\n",
      "    \"continue\": {\n",
      "        \"iistart\": \"2007-09-03T09:51:34Z\",\n",
      "        \"continue\": \"||\"\n",
      "    },\n",
      "    \"query\": {\n",
      "        \"pages\": {\n",
      "            \"-1\": {\n",
      "                \"ns\": 6,\n",
      "                \"title\": \"File:Flag of the United Kingdom.svg\",\n",
      "                \"missing\": \"\",\n",
      "                \"known\": \"\",\n",
      "                \"imagerepository\": \"shared\",\n",
      "                \"imageinfo\": [\n",
      "                    {\n",
      "                        \"url\": \"https://upload.wikimedia.org/wikipedia/commons/a/ae/Flag_of_the_United_Kingdom.svg\",\n",
      "                        \"descriptionurl\": \"https://commons.wikimedia.org/wiki/File:Flag_of_the_United_Kingdom.svg\",\n",
      "                        \"descriptionshorturl\": \"https://commons.wikimedia.org/w/index.php?curid=347935\"\n",
      "                    }\n",
      "                ]\n",
      "            }\n",
      "        }\n",
      "    }\n",
      "}\n"
     ]
    }
   ],
   "source": [
    "url = 'https://www.mediawiki.org/w/api.php?' + 'action=query'  + '&titles=File:' + template_dic[\"国旗画像\"]  + '&format=json' + '&prop=imageinfo' + '&iiprop=url'\n",
    "\n",
    "import requests\n",
    "\n",
    "r = requests.get(url).json()\n",
    "\n",
    "print(json.dumps(r, indent = 4))"
   ]
  },
  {
   "cell_type": "markdown",
   "metadata": {},
   "source": [
    "jsonの構造を確認できたのでurlを抜き出す."
   ]
  },
  {
   "cell_type": "code",
   "execution_count": 59,
   "metadata": {},
   "outputs": [
    {
     "name": "stdout",
     "output_type": "stream",
     "text": [
      "https://upload.wikimedia.org/wikipedia/commons/a/ae/Flag_of_the_United_Kingdom.svg\n"
     ]
    }
   ],
   "source": [
    "image_url = r[\"query\"][\"pages\"][\"-1\"][\"imageinfo\"][0][\"url\"]\n",
    "\n",
    "print(image_url)"
   ]
  },
  {
   "cell_type": "markdown",
   "metadata": {},
   "source": [
    "無事に取り出せたか画像を確認してみる  \n",
    "![イギリスの国旗画像](https://upload.wikimedia.org/wikipedia/commons/a/ae/Flag_of_the_United_Kingdom.svg)  \n",
    "\n",
    "### オーケーっぽい"
   ]
  }
 ],
 "metadata": {
  "kernelspec": {
   "display_name": "Python 3",
   "language": "python",
   "name": "python3"
  },
  "language_info": {
   "codemirror_mode": {
    "name": "ipython",
    "version": 3
   },
   "file_extension": ".py",
   "mimetype": "text/x-python",
   "name": "python",
   "nbconvert_exporter": "python",
   "pygments_lexer": "ipython3",
   "version": "3.6.3"
  }
 },
 "nbformat": 4,
 "nbformat_minor": 2
}
