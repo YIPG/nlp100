{
 "cells": [
  {
   "cell_type": "markdown",
   "metadata": {},
   "source": [
    "## 10. 行数カウント"
   ]
  },
  {
   "cell_type": "code",
   "execution_count": 109,
   "metadata": {},
   "outputs": [],
   "source": [
    "import collections\n",
    "import pdb\n",
    "txt_path = \"../../problem/data/popular-names.txt\""
   ]
  },
  {
   "cell_type": "code",
   "execution_count": 110,
   "metadata": {},
   "outputs": [
    {
     "name": "stdout",
     "output_type": "stream",
     "text": [
      "2740\n"
     ]
    }
   ],
   "source": [
    "n_line = 0\n",
    "with open(txt_path, \"r\") as f:\n",
    "    for line in f:\n",
    "        n_line += 1\n",
    "print(n_line)"
   ]
  },
  {
   "cell_type": "markdown",
   "metadata": {},
   "source": [
    "## 11. タブをスペースに変換"
   ]
  },
  {
   "cell_type": "code",
   "execution_count": 111,
   "metadata": {},
   "outputs": [],
   "source": [
    "with open(txt_path, \"r\") as f:\n",
    "    for line in f:\n",
    "        line.replace(\"\\t\", \" \")"
   ]
  },
  {
   "cell_type": "markdown",
   "metadata": {},
   "source": [
    "### 出力変わらずよくわからなかった"
   ]
  },
  {
   "cell_type": "markdown",
   "metadata": {},
   "source": [
    "## 12. 1列目をcol1.txtに，2列目をcol2.txtに保存\n"
   ]
  },
  {
   "cell_type": "code",
   "execution_count": 120,
   "metadata": {},
   "outputs": [
    {
     "name": "stdout",
     "output_type": "stream",
     "text": [
      "Anna\tF\t2604\t1880\n"
     ]
    }
   ],
   "source": [
    "col1 = \"../data/col1.txt\"\n",
    "col2 = \"../data/col2.txt\"\n",
    "\n",
    "f = open(txt_path,\"r\")\n",
    "f_col1 = open(col1,\"w\")\n",
    "f_col2 = open(col2,\"w\")\n",
    "\n",
    "l_list=f.read().splitlines() # with使えよ！ \n",
    "f_col1.write(l_list[0])\n",
    "print(l_list[1])\n",
    "f_col2.write(l_list[1])\n",
    "\n",
    "f.close()\n",
    "f_col1.close()\n",
    "f_col2.close()"
   ]
  },
  {
   "cell_type": "markdown",
   "metadata": {},
   "source": [
    "## 13. col1.txtとcol2.txtをマージ\n"
   ]
  },
  {
   "cell_type": "code",
   "execution_count": 113,
   "metadata": {},
   "outputs": [],
   "source": [
    "merged_col = \"../data/merged_col.txt\"\n",
    "\n",
    "f_col1 = open(col1,\"r\")\n",
    "f_col2 = open(col2,\"r\")\n",
    "f_merged = open(merged_col, \"w\")\n",
    "f_merged.write(f_col1.read() + \"\\t\" + f_col2.read())\n",
    "f_col1.close()\n",
    "f_col2.close()\n",
    "f_merged.close()"
   ]
  },
  {
   "cell_type": "markdown",
   "metadata": {},
   "source": [
    "## 14. 先頭からN行を出力"
   ]
  },
  {
   "cell_type": "code",
   "execution_count": 114,
   "metadata": {},
   "outputs": [
    {
     "name": "stdout",
     "output_type": "stream",
     "text": [
      "Mary\tF\t7065\t1880\n",
      "Anna\tF\t2604\t1880\n",
      "Emma\tF\t2003\t1880\n",
      "Elizabeth\tF\t1939\t1880\n",
      "Minnie\tF\t1746\t1880\n",
      "Margaret\tF\t1578\t1880\n",
      "Ida\tF\t1472\t1880\n",
      "Alice\tF\t1414\t1880\n",
      "Bertha\tF\t1320\t1880\n",
      "Sarah\tF\t1288\t1880\n"
     ]
    }
   ],
   "source": [
    "N = int(input(\"自然数Nを入力してください\"))\n",
    "with open(txt_path, \"r\") as f:\n",
    "    l_list=f.read().splitlines()\n",
    "    for i in range(N):\n",
    "        print(l_list[i])"
   ]
  },
  {
   "cell_type": "markdown",
   "metadata": {},
   "source": [
    "## 15. 末尾のN行を出力"
   ]
  },
  {
   "cell_type": "code",
   "execution_count": 126,
   "metadata": {},
   "outputs": [
    {
     "name": "stdout",
     "output_type": "stream",
     "text": [
      "Ethan\tM\t13758\t2016\n",
      "Elijah\tM\t13764\t2016\n",
      "Michael\tM\t13998\t2016\n",
      "Jacob\tM\t14416\t2016\n",
      "Benjamin\tM\t14569\t2016\n",
      "James\tM\t14776\t2016\n",
      "Mason\tM\t15192\t2016\n",
      "William\tM\t15668\t2016\n",
      "Liam\tM\t18138\t2016\n"
     ]
    }
   ],
   "source": [
    "N = int(input(\"自然数Nを入力してください\"))\n",
    "with open(txt_path, \"r\") as f:\n",
    "    l_list=f.read().splitlines()\n",
    "    for i in range(N):\n",
    "        print(l_list[-(i+1)])"
   ]
  },
  {
   "cell_type": "markdown",
   "metadata": {},
   "source": [
    "## 16. ファイルをN分割する"
   ]
  },
  {
   "cell_type": "code",
   "execution_count": 116,
   "metadata": {},
   "outputs": [
    {
     "name": "stdout",
     "output_type": "stream",
     "text": [
      "274\n"
     ]
    }
   ],
   "source": [
    "N = int(input(\"自然数Nを入力してください\"))\n",
    "with open(txt_path, \"r\") as f:\n",
    "    l_list=f.read().splitlines()\n",
    "    n = len(l_list)// N\n",
    "    print(n)\n",
    "    for j,i in enumerate(range(0,len(l_list),n)):\n",
    "        with open(\"../data/N_splitted_\" + str(j) + \".txt\", \"w\") as fw:\n",
    "            for element in l_list[i:i+n]:\n",
    "                \n",
    "                \n",
    "                #　外側でデータに関するループ\n",
    "                #　utigawa de ru-pu \n",
    "                fw.write(element + \"\\n\")"
   ]
  },
  {
   "cell_type": "markdown",
   "metadata": {},
   "source": [
    "## 17. １列目の文字列の異なり"
   ]
  },
  {
   "cell_type": "code",
   "execution_count": 117,
   "metadata": {},
   "outputs": [
    {
     "name": "stdout",
     "output_type": "stream",
     "text": [
      "132\n"
     ]
    }
   ],
   "source": [
    "row_list1=[]\n",
    "with open(txt_path, \"r\") as f:\n",
    "    for line in f:\n",
    "        row_list1.append(line.split(\"\\t\")[0])\n",
    "c = collections.Counter(row_list1)\n",
    "print(len(c.keys()))"
   ]
  },
  {
   "cell_type": "markdown",
   "metadata": {},
   "source": [
    "## 18. 各行を3コラム目の数値の降順にソート"
   ]
  },
  {
   "cell_type": "markdown",
   "metadata": {},
   "source": [
    "pandas使うとはやい・・・？"
   ]
  },
  {
   "cell_type": "code",
   "execution_count": 118,
   "metadata": {
    "slideshow": {
     "slide_type": "-"
    }
   },
   "outputs": [
    {
     "name": "stdout",
     "output_type": "stream",
     "text": [
      "            0  1      2     3\n",
      "1340    Linda  F  99685  1947\n",
      "1360    Linda  F  96210  1948\n",
      "1350    James  M  94762  1947\n",
      "1550  Michael  M  92716  1957\n",
      "1351   Robert  M  91641  1947\n"
     ]
    }
   ],
   "source": [
    "import pandas as pd\n",
    "df = pd.read_table(txt_path,header=None)\n",
    "df_sorted = df.sort_values(by=2, ascending=False)\n",
    "print(df_sorted.head())"
   ]
  },
  {
   "cell_type": "markdown",
   "metadata": {},
   "source": [
    "## 19. 各行の1コラム目の文字列の出現頻度を求め，出現頻度の高い順に並べる"
   ]
  },
  {
   "cell_type": "code",
   "execution_count": 119,
   "metadata": {},
   "outputs": [
    {
     "name": "stdout",
     "output_type": "stream",
     "text": [
      "             0  1      2     3\n",
      "12       James  M   5927  1880\n",
      "32       James  M   5441  1881\n",
      "52       James  M   5892  1882\n",
      "72       James  M   5223  1883\n",
      "92       James  M   5693  1884\n",
      "112      James  M   5175  1885\n",
      "132      James  M   5355  1886\n",
      "152      James  M   4768  1887\n",
      "172      James  M   5562  1888\n",
      "192      James  M   5020  1889\n",
      "212      James  M   5097  1890\n",
      "232      James  M   4516  1891\n",
      "252      James  M   5398  1892\n",
      "272      James  M   5029  1893\n",
      "292      James  M   5110  1894\n",
      "312      James  M   5335  1895\n",
      "332      James  M   5207  1896\n",
      "352      James  M   5113  1897\n",
      "372      James  M   5321  1898\n",
      "392      James  M   4597  1899\n",
      "412      James  M   7245  1900\n",
      "432      James  M   4735  1901\n",
      "452      James  M   5592  1902\n",
      "472      James  M   5480  1903\n",
      "492      James  M   5855  1904\n",
      "512      James  M   6042  1905\n",
      "532      James  M   5908  1906\n",
      "552      James  M   6707  1907\n",
      "572      James  M   7012  1908\n",
      "592      James  M   7594  1909\n",
      "...        ... ..    ...   ...\n",
      "2638     Aiden  M  15487  2011\n",
      "2659     Aiden  M  14883  2012\n",
      "2109     Megan  F  20013  1985\n",
      "2249     Megan  F  17843  1992\n",
      "2289     Megan  F  16579  1994\n",
      "2188    Lauren  F  21062  1989\n",
      "2209    Lauren  F  20500  1990\n",
      "2709    Harper  F  10283  2015\n",
      "2729    Harper  F  10733  2016\n",
      "1359     Larry  M  34935  1947\n",
      "1399     Larry  M  31807  1949\n",
      "2719  Benjamin  M  13670  2015\n",
      "2735  Benjamin  M  14569  2016\n",
      "169     Bessie  F   2278  1888\n",
      "188     Bessie  F   2343  1889\n",
      "1869   Rebecca  F  14870  1973\n",
      "1889   Rebecca  F  15167  1974\n",
      "1789     Laura  F  17921  1969\n",
      "1949     Kelly  F  18235  1977\n",
      "709     Evelyn  F  11595  1915\n",
      "1249   Carolyn  F  19979  1942\n",
      "2738    Elijah  M  13764  2016\n",
      "2048   Crystal  F  19101  1982\n",
      "1839     Scott  M  30919  1971\n",
      "1829     Julie  F  15328  1971\n",
      "2328    Rachel  F  16112  1996\n",
      "1667      Lori  F  23907  1963\n",
      "1469    Pamela  F  25754  1953\n",
      "699     Walter  M   8962  1914\n",
      "1809     Tracy  F  18468  1970\n",
      "\n",
      "[2740 rows x 4 columns]\n"
     ]
    }
   ],
   "source": [
    "name_list = df[0].value_counts().index.tolist()\n",
    "df_sorted_1 = pd.DataFrame()\n",
    "for name in name_list:\n",
    "    df_sorted_1 = pd.concat([df_sorted_1, df[df[0] == name]])\n",
    "print(df_sorted_1)"
   ]
  },
  {
   "cell_type": "code",
   "execution_count": null,
   "metadata": {},
   "outputs": [],
   "source": []
  }
 ],
 "metadata": {
  "kernelspec": {
   "display_name": "Python 3",
   "language": "python",
   "name": "python3"
  },
  "language_info": {
   "codemirror_mode": {
    "name": "ipython",
    "version": 3
   },
   "file_extension": ".py",
   "mimetype": "text/x-python",
   "name": "python",
   "nbconvert_exporter": "python",
   "pygments_lexer": "ipython3",
   "version": "3.6.3"
  }
 },
 "nbformat": 4,
 "nbformat_minor": 2
}
